{
 "cells": [
  {
   "cell_type": "markdown",
   "metadata": {},
   "source": [
    "# A* algorithm"
   ]
  },
  {
   "cell_type": "code",
   "execution_count": 1,
   "metadata": {},
   "outputs": [],
   "source": [
    "import numpy as np\n",
    "import matplotlib.pyplot as plt"
   ]
  },
  {
   "cell_type": "markdown",
   "metadata": {},
   "source": [
    "## Initialization\n",
    "`mapmap`不为 0 的元素表示有障碍无法通过"
   ]
  },
  {
   "cell_type": "code",
   "execution_count": 2,
   "metadata": {},
   "outputs": [
    {
     "name": "stdout",
     "output_type": "stream",
     "text": [
      "(15, 15)\n"
     ]
    }
   ],
   "source": [
    "mapmap = np.load('map.npy')\n",
    "print(mapmap.shape)\n",
    "#print(mapmap)\n",
    "startPosition = (2, 0)    #Initial point\n",
    "goalPosition = (13, 11)   #End point\n",
    "direction = [(0,1),(0,-1),(1,0),(-1,0),(1,1),(1,-1),(-1,1),(-1,-1)]\n",
    "#direction = [[0,1],[0,-1],[1,0],[-1,0],[1,1],[1,-1],[-1,1],[-1,-1]] #reachable direction\n",
    "mapRow, mapCol = mapmap.shape;\n",
    "if mapmap[startPosition[0], startPosition[1]]:\n",
    "    exit('Parameters Error! in startPosition')\n",
    "elif mapmap[startPosition[0], startPosition[1]]:\n",
    "    exit('Parameters Error! in goalPoaition')"
   ]
  },
  {
   "cell_type": "markdown",
   "metadata": {},
   "source": [
    "## Heuristic function\n",
    "$f = g + h$\n",
    "- 相邻格距离 10 \n",
    "- 对角距离 14"
   ]
  },
  {
   "cell_type": "code",
   "execution_count": 3,
   "metadata": {},
   "outputs": [],
   "source": [
    "def cost(startPoistion, goalPosition):\n",
    "    dx, dy = abs(np.array(startPoistion)-np.array(goalPosition))\n",
    "    distance = 10*(dx+dy) - 6*min(dx,dy)\n",
    "    #distance = dx+dy-0.6*min(dx,dy)\n",
    "    return distance\n",
    "\n",
    "def g(startPoistion, startCost, goalPosition):\n",
    "    goalCost = startCost + cost(startPoistion, goalPosition)\n",
    "    return goalCost\n",
    "\n",
    "def heuristic(startPosition, goalPosition):\n",
    "    dx, dy = abs(np.array(startPosition)-np.array(goalPosition))\n",
    "    distance = 10*(dx+dy) - 6*min(dx,dy)\n",
    "    #distance = dx+dy-0.6*min(dx,dy)\n",
    "    return distance"
   ]
  },
  {
   "cell_type": "code",
   "execution_count": 4,
   "metadata": {},
   "outputs": [],
   "source": [
    "def isPositionValid(position):\n",
    "    #print(position)\n",
    "    return position[0]>=0 and position[1]>=0 and position[0]<mapRow \\\n",
    "            and position[1]<mapCol and (mapmap[position[0],position[1]]==0)\n",
    "\n",
    "def isInCloseList(position, closeList):\n",
    "    for i in range(len(closeList)):\n",
    "        if position==closeList[i][0:2]:\n",
    "            return True\n",
    "    return False"
   ]
  },
  {
   "cell_type": "markdown",
   "metadata": {},
   "source": [
    "## A* algorithm\n",
    "`openList`和`closeList`中的元素具有如下格式(tuple)：\n",
    "\n",
    "`(row, column, f, g, h, parentNode)`"
   ]
  },
  {
   "cell_type": "code",
   "execution_count": 5,
   "metadata": {},
   "outputs": [],
   "source": [
    "# initialize\n",
    "openList = []\n",
    "closeList = []\n",
    "\n",
    "# add the first node\n",
    "nodePosition = startPosition\n",
    "gg = g(startPosition, 0, nodePosition)\n",
    "hh = heuristic(nodePosition, goalPosition)\n",
    "nodeInfo = (nodePosition[0],nodePosition[1],gg+hh, gg, hh, 0)\n",
    "openList.append(nodeInfo)\n",
    "\n",
    "while True:\n",
    "    # find the closest node in openList \n",
    "    nodeIdx = 0\n",
    "    fmin = openList[nodeIdx][2]\n",
    "    for i in range(1,len(openList)):\n",
    "        if openList[i][2] <= fmin:  #加上=表示偏好于后加进来的点，可以减少搜索次数\n",
    "            fmin = openList[i][2]\n",
    "            nodeIdx = i\n",
    "        \n",
    "    nodeInfo = openList.pop(nodeIdx)\n",
    "    nodePosition = nodeInfo[0:2]\n",
    "    closeList.append(nodeInfo)\n",
    "    #print('-'*20)\n",
    "    #print(nodeIdx,len(openList),nodePosition)\n",
    "    #print('-'*20)\n",
    "    \n",
    "    if nodePosition == goalPosition:\n",
    "        break\n",
    "    \n",
    "    for i in range(len(direction)):\n",
    "        nextPosition = tuple(np.array(nodePosition) + np.array(direction[i]))\n",
    "        #print(position, nextPosition)\n",
    "        if (not isPositionValid(nextPosition)) or isInCloseList(nextPosition, closeList):\n",
    "            continue\n",
    "        \n",
    "        flag = True\n",
    "        #print('here')\n",
    "        nextg = g(nodePosition,nodeInfo[3],nextPosition);\n",
    "        nexth = heuristic(nextPosition,goalPosition)\n",
    "        nextf =  nextg + nexth\n",
    "        for j in range(len(openList)):\n",
    "            if tuple(nextPosition)==openList[j][0:2]:\n",
    "                flag = False\n",
    "                if nextf < openList[j][2]:\n",
    "                    openList[j] = (nextPosition[0],nextPosition[1],nextf,nextg,nexth,len(closeList)-1)\n",
    "                    #print('added!')\n",
    "                break\n",
    "        \n",
    "        if flag:\n",
    "            nextInfo = (nextPosition[0],nextPosition[1],nextf,nextg,nexth,len(closeList)-1)\n",
    "            openList.append(nextInfo)\n",
    "            #print('added!')\n",
    "        "
   ]
  },
  {
   "cell_type": "markdown",
   "metadata": {},
   "source": [
    "## Visualization"
   ]
  },
  {
   "cell_type": "code",
   "execution_count": 7,
   "metadata": {},
   "outputs": [],
   "source": [
    "%matplotlib qt5\n",
    "#print(closeList)\n",
    "mapViz = mapmap\n",
    "mapViz[startPosition[0],startPosition[1]] = 30;\n",
    "mapViz[goalPosition[0], goalPosition[1]] = 30;\n",
    "path = []\n",
    "nodeIdx = -1\n",
    "while True:\n",
    "    if closeList[nodeIdx][0:2]==startPosition:\n",
    "        break\n",
    "    path.append(closeList[nodeIdx][0:2])\n",
    "    nodeIdx = closeList[nodeIdx][-1]\n",
    "    \n",
    "path.reverse()\n",
    "\n",
    "plt.figure(0)\n",
    "for k in range(len(path)-1):\n",
    "    mapViz[path[k][0],path[k][1]] = 20\n",
    "    plt.clf()\n",
    "    plt.pcolormesh(mapViz)\n",
    "    plt.pause(0.3)\n",
    "    plt.ioff()"
   ]
  },
  {
   "cell_type": "markdown",
   "metadata": {},
   "source": [
    "## Debug"
   ]
  },
  {
   "cell_type": "code",
   "execution_count": 6,
   "metadata": {},
   "outputs": [],
   "source": [
    "%matplotlib qt5\n",
    "#plt.cla()\n",
    "#plt.clf()\n",
    "#plt.close()\n",
    "mapViz = mapmap\n",
    "mapViz[startPosition[0],startPosition[1]] = 30;\n",
    "mapViz[goalPosition[0], goalPosition[1]] = 30;\n",
    "plt.figure(1)\n",
    "for k in range(len(closeList)-1):\n",
    "    mapViz[closeList[k][0],closeList[k][1]] = 200-closeList[k][2]\n",
    "    plt.clf()\n",
    "    plt.pcolormesh(mapViz)\n",
    "    plt.pause(0.1)\n",
    "    plt.ioff()"
   ]
  },
  {
   "cell_type": "code",
   "execution_count": 14,
   "metadata": {},
   "outputs": [
    {
     "data": {
      "text/plain": [
       "<matplotlib.collections.QuadMesh at 0x2562d35db38>"
      ]
     },
     "execution_count": 14,
     "metadata": {},
     "output_type": "execute_result"
    }
   ],
   "source": [
    "%matplotlib qt5\n",
    "plt.cla()\n",
    "plt.close()\n",
    "plt.pcolormesh(mapmap)"
   ]
  },
  {
   "cell_type": "code",
   "execution_count": null,
   "metadata": {},
   "outputs": [],
   "source": []
  }
 ],
 "metadata": {
  "kernelspec": {
   "display_name": "Python 3",
   "language": "python",
   "name": "python3"
  },
  "language_info": {
   "codemirror_mode": {
    "name": "ipython",
    "version": 3
   },
   "file_extension": ".py",
   "mimetype": "text/x-python",
   "name": "python",
   "nbconvert_exporter": "python",
   "pygments_lexer": "ipython3",
   "version": "3.6.4"
  }
 },
 "nbformat": 4,
 "nbformat_minor": 2
}
